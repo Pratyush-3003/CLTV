{
  "nbformat": 4,
  "nbformat_minor": 0,
  "metadata": {
    "colab": {
      "provenance": [],
      "authorship_tag": "ABX9TyMtMV9Che13omKV5QNsCDeW",
      "include_colab_link": true
    },
    "kernelspec": {
      "name": "python3",
      "display_name": "Python 3"
    },
    "language_info": {
      "name": "python"
    }
  },
  "cells": [
    {
      "cell_type": "markdown",
      "metadata": {
        "id": "view-in-github",
        "colab_type": "text"
      },
      "source": [
        "<a href=\"https://colab.research.google.com/github/Pratyush-3003/CLTV/blob/main/Untitled0.ipynb\" target=\"_parent\"><img src=\"https://colab.research.google.com/assets/colab-badge.svg\" alt=\"Open In Colab\"/></a>"
      ]
    },
    {
      "cell_type": "code",
      "source": [
        "!pip install lifetimes"
      ],
      "metadata": {
        "colab": {
          "base_uri": "https://localhost:8080/"
        },
        "collapsed": true,
        "id": "lVyy0MVZHZot",
        "outputId": "07979efc-9e61-4db5-a849-a0cdc8f3b164"
      },
      "execution_count": null,
      "outputs": [
        {
          "output_type": "stream",
          "name": "stdout",
          "text": [
            "Collecting lifetimes\n",
            "  Downloading Lifetimes-0.11.3-py3-none-any.whl.metadata (4.8 kB)\n",
            "Requirement already satisfied: numpy>=1.10.0 in /usr/local/lib/python3.11/dist-packages (from lifetimes) (2.0.2)\n",
            "Requirement already satisfied: scipy>=1.0.0 in /usr/local/lib/python3.11/dist-packages (from lifetimes) (1.14.1)\n",
            "Requirement already satisfied: pandas>=0.24.0 in /usr/local/lib/python3.11/dist-packages (from lifetimes) (2.2.2)\n",
            "Requirement already satisfied: autograd>=1.2.0 in /usr/local/lib/python3.11/dist-packages (from lifetimes) (1.7.0)\n",
            "Collecting dill>=0.2.6 (from lifetimes)\n",
            "  Downloading dill-0.3.9-py3-none-any.whl.metadata (10 kB)\n",
            "Requirement already satisfied: python-dateutil>=2.8.2 in /usr/local/lib/python3.11/dist-packages (from pandas>=0.24.0->lifetimes) (2.8.2)\n",
            "Requirement already satisfied: pytz>=2020.1 in /usr/local/lib/python3.11/dist-packages (from pandas>=0.24.0->lifetimes) (2025.2)\n",
            "Requirement already satisfied: tzdata>=2022.7 in /usr/local/lib/python3.11/dist-packages (from pandas>=0.24.0->lifetimes) (2025.2)\n",
            "Requirement already satisfied: six>=1.5 in /usr/local/lib/python3.11/dist-packages (from python-dateutil>=2.8.2->pandas>=0.24.0->lifetimes) (1.17.0)\n",
            "Downloading Lifetimes-0.11.3-py3-none-any.whl (584 kB)\n",
            "\u001b[2K   \u001b[90m━━━━━━━━━━━━━━━━━━━━━━━━━━━━━━━━━━━━━━━━\u001b[0m \u001b[32m584.2/584.2 kB\u001b[0m \u001b[31m10.1 MB/s\u001b[0m eta \u001b[36m0:00:00\u001b[0m\n",
            "\u001b[?25hDownloading dill-0.3.9-py3-none-any.whl (119 kB)\n",
            "\u001b[2K   \u001b[90m━━━━━━━━━━━━━━━━━━━━━━━━━━━━━━━━━━━━━━━━\u001b[0m \u001b[32m119.4/119.4 kB\u001b[0m \u001b[31m9.3 MB/s\u001b[0m eta \u001b[36m0:00:00\u001b[0m\n",
            "\u001b[?25hInstalling collected packages: dill, lifetimes\n",
            "Successfully installed dill-0.3.9 lifetimes-0.11.3\n"
          ]
        }
      ]
    },
    {
      "cell_type": "markdown",
      "source": [
        "***Importing Libraries***"
      ],
      "metadata": {
        "id": "ptfpdMxoIgML"
      }
    },
    {
      "cell_type": "code",
      "execution_count": null,
      "metadata": {
        "id": "flSAkdRSAiIg"
      },
      "outputs": [],
      "source": [
        "import numpy as np\n",
        "import pandas as pd\n",
        "import matplotlib.pyplot as plt\n",
        "import seaborn as sns\n",
        "import warnings\n",
        "warnings.filterwarnings('ignore')"
      ]
    },
    {
      "cell_type": "markdown",
      "source": [
        "***Importing Lifetime Models***"
      ],
      "metadata": {
        "id": "o0ocruoJIog0"
      }
    },
    {
      "cell_type": "code",
      "source": [
        "from lifetimes import BetaGeoFitter,GammaGammaFitter\n",
        "from lifetimes.utils import summary_data_from_transaction_data, calibration_and_holdout_data"
      ],
      "metadata": {
        "id": "p6zdJpC1GydS"
      },
      "execution_count": null,
      "outputs": []
    },
    {
      "cell_type": "markdown",
      "source": [
        "***Loading The Data-Set***"
      ],
      "metadata": {
        "id": "HNacfMSpIzYh"
      }
    },
    {
      "cell_type": "code",
      "source": [
        "df = pd.read_csv('MiPData.csv', encoding='latin-1')\n",
        "print(df.info())\n",
        "print(df.head())\n",
        "print(df.tail())"
      ],
      "metadata": {
        "colab": {
          "base_uri": "https://localhost:8080/"
        },
        "id": "bjIIHHaEHnO0",
        "outputId": "fa3b4259-1ecf-47dc-a741-193fd3ca5c57"
      },
      "execution_count": null,
      "outputs": [
        {
          "output_type": "stream",
          "name": "stdout",
          "text": [
            "<class 'pandas.core.frame.DataFrame'>\n",
            "RangeIndex: 541909 entries, 0 to 541908\n",
            "Data columns (total 8 columns):\n",
            " #   Column       Non-Null Count   Dtype  \n",
            "---  ------       --------------   -----  \n",
            " 0   InvoiceNo    541909 non-null  object \n",
            " 1   StockCode    541909 non-null  object \n",
            " 2   Description  540455 non-null  object \n",
            " 3   Quantity     541909 non-null  int64  \n",
            " 4   InvoiceDate  541909 non-null  object \n",
            " 5   UnitPrice    541909 non-null  float64\n",
            " 6   CustomerID   406829 non-null  float64\n",
            " 7   Country      541909 non-null  object \n",
            "dtypes: float64(2), int64(1), object(5)\n",
            "memory usage: 33.1+ MB\n",
            "None\n",
            "  InvoiceNo StockCode                          Description  Quantity  \\\n",
            "0    536365    85123A   WHITE HANGING HEART T-LIGHT HOLDER         6   \n",
            "1    536365     71053                  WHITE METAL LANTERN         6   \n",
            "2    536365    84406B       CREAM CUPID HEARTS COAT HANGER         8   \n",
            "3    536365    84029G  KNITTED UNION FLAG HOT WATER BOTTLE         6   \n",
            "4    536365    84029E       RED WOOLLY HOTTIE WHITE HEART.         6   \n",
            "\n",
            "        InvoiceDate  UnitPrice  CustomerID         Country  \n",
            "0  12-01-2010 08:26       2.55     17850.0  United Kingdom  \n",
            "1  12-01-2010 08:26       3.39     17850.0  United Kingdom  \n",
            "2  12-01-2010 08:26       2.75     17850.0  United Kingdom  \n",
            "3  12-01-2010 08:26       3.39     17850.0  United Kingdom  \n",
            "4  12-01-2010 08:26       3.39     17850.0  United Kingdom  \n",
            "       InvoiceNo StockCode                      Description  Quantity  \\\n",
            "541904    581587     22613      PACK OF 20 SPACEBOY NAPKINS        12   \n",
            "541905    581587     22899     CHILDREN'S APRON DOLLY GIRL          6   \n",
            "541906    581587     23254    CHILDRENS CUTLERY DOLLY GIRL          4   \n",
            "541907    581587     23255  CHILDRENS CUTLERY CIRCUS PARADE         4   \n",
            "541908    581587     22138    BAKING SET 9 PIECE RETROSPOT          3   \n",
            "\n",
            "             InvoiceDate  UnitPrice  CustomerID Country  \n",
            "541904  12-09-2011 12:50       0.85     12680.0  France  \n",
            "541905  12-09-2011 12:50       2.10     12680.0  France  \n",
            "541906  12-09-2011 12:50       4.15     12680.0  France  \n",
            "541907  12-09-2011 12:50       4.15     12680.0  France  \n",
            "541908  12-09-2011 12:50       4.95     12680.0  France  \n"
          ]
        }
      ]
    },
    {
      "cell_type": "markdown",
      "source": [
        "***Data Preprocessing***"
      ],
      "metadata": {
        "id": "QiSIHerTI84h"
      }
    },
    {
      "cell_type": "markdown",
      "source": [
        "*Missing Data*"
      ],
      "metadata": {
        "id": "1WkOIF6RLeiy"
      }
    },
    {
      "cell_type": "code",
      "source": [
        "missing_values = df.isna().sum()\n",
        "missing_values = missing_values[missing_values > 0]\n",
        "print(missing_values)"
      ],
      "metadata": {
        "colab": {
          "base_uri": "https://localhost:8080/"
        },
        "id": "fcCirFWgJAdK",
        "outputId": "4991c191-83fe-4a7d-a312-2b9799c2d6bb"
      },
      "execution_count": null,
      "outputs": [
        {
          "output_type": "stream",
          "name": "stdout",
          "text": [
            "Description      1454\n",
            "CustomerID     135080\n",
            "dtype: int64\n"
          ]
        }
      ]
    },
    {
      "cell_type": "code",
      "source": [
        "df.dropna(inplace=True)\n",
        "missing_values = df.isna().sum()\n",
        "missing_values = missing_values[missing_values > 0]\n",
        "print(missing_values)"
      ],
      "metadata": {
        "colab": {
          "base_uri": "https://localhost:8080/"
        },
        "id": "J-oliNGPQVT7",
        "outputId": "db5937e0-d314-4baf-d442-de15fcaddefc"
      },
      "execution_count": null,
      "outputs": [
        {
          "output_type": "stream",
          "name": "stdout",
          "text": [
            "Series([], dtype: int64)\n"
          ]
        }
      ]
    },
    {
      "cell_type": "markdown",
      "source": [
        "*Duplicate Rows*"
      ],
      "metadata": {
        "id": "LaYJwG7ULkh5"
      }
    },
    {
      "cell_type": "code",
      "source": [
        "duplicate_values= df.duplicated().sum()\n",
        "print(duplicate_values)\n",
        "df.drop_duplicates(inplace=True)\n",
        "print(duplicate_values)"
      ],
      "metadata": {
        "colab": {
          "base_uri": "https://localhost:8080/"
        },
        "id": "l72L3eMvLqqd",
        "outputId": "2ef277c0-8959-476d-a914-4480a94999a5"
      },
      "execution_count": null,
      "outputs": [
        {
          "output_type": "stream",
          "name": "stdout",
          "text": [
            "5225\n",
            "5225\n"
          ]
        }
      ]
    },
    {
      "cell_type": "markdown",
      "source": [
        "*Checking and Converting Data-Types*"
      ],
      "metadata": {
        "id": "bMo7mky9MJvq"
      }
    },
    {
      "cell_type": "code",
      "source": [
        "df.dtypes"
      ],
      "metadata": {
        "colab": {
          "base_uri": "https://localhost:8080/",
          "height": 335
        },
        "id": "5C6Av-zzMRDr",
        "outputId": "6d1da63d-dbe2-4a3b-e402-32f9abdcdb8d"
      },
      "execution_count": null,
      "outputs": [
        {
          "output_type": "execute_result",
          "data": {
            "text/plain": [
              "InvoiceNo       object\n",
              "StockCode       object\n",
              "Description     object\n",
              "Quantity         int64\n",
              "InvoiceDate     object\n",
              "UnitPrice      float64\n",
              "CustomerID     float64\n",
              "Country         object\n",
              "dtype: object"
            ],
            "text/html": [
              "<div>\n",
              "<style scoped>\n",
              "    .dataframe tbody tr th:only-of-type {\n",
              "        vertical-align: middle;\n",
              "    }\n",
              "\n",
              "    .dataframe tbody tr th {\n",
              "        vertical-align: top;\n",
              "    }\n",
              "\n",
              "    .dataframe thead th {\n",
              "        text-align: right;\n",
              "    }\n",
              "</style>\n",
              "<table border=\"1\" class=\"dataframe\">\n",
              "  <thead>\n",
              "    <tr style=\"text-align: right;\">\n",
              "      <th></th>\n",
              "      <th>0</th>\n",
              "    </tr>\n",
              "  </thead>\n",
              "  <tbody>\n",
              "    <tr>\n",
              "      <th>InvoiceNo</th>\n",
              "      <td>object</td>\n",
              "    </tr>\n",
              "    <tr>\n",
              "      <th>StockCode</th>\n",
              "      <td>object</td>\n",
              "    </tr>\n",
              "    <tr>\n",
              "      <th>Description</th>\n",
              "      <td>object</td>\n",
              "    </tr>\n",
              "    <tr>\n",
              "      <th>Quantity</th>\n",
              "      <td>int64</td>\n",
              "    </tr>\n",
              "    <tr>\n",
              "      <th>InvoiceDate</th>\n",
              "      <td>object</td>\n",
              "    </tr>\n",
              "    <tr>\n",
              "      <th>UnitPrice</th>\n",
              "      <td>float64</td>\n",
              "    </tr>\n",
              "    <tr>\n",
              "      <th>CustomerID</th>\n",
              "      <td>float64</td>\n",
              "    </tr>\n",
              "    <tr>\n",
              "      <th>Country</th>\n",
              "      <td>object</td>\n",
              "    </tr>\n",
              "  </tbody>\n",
              "</table>\n",
              "</div><br><label><b>dtype:</b> object</label>"
            ]
          },
          "metadata": {},
          "execution_count": 13
        }
      ]
    },
    {
      "source": [
        "df['InvoiceDate'] = pd.to_datetime(df['InvoiceDate'], format='%m/%d/%Y %H:%M',errors='coerce')\n",
        "df['CustomerID'] = df['CustomerID'].astype(int)"
      ],
      "cell_type": "code",
      "metadata": {
        "id": "bAuNIZf2Pvp8"
      },
      "execution_count": null,
      "outputs": []
    },
    {
      "cell_type": "markdown",
      "source": [
        "Removing negative and Non-zeros Quantities"
      ],
      "metadata": {
        "id": "jjtUQg0SQ1cy"
      }
    },
    {
      "cell_type": "code",
      "source": [
        "df = df[df['Quantity'] > 0]\n",
        "df = df[df['UnitPrice']> 0]\n",
        "print (df)"
      ],
      "metadata": {
        "id": "H8CWrv0Nx2wC",
        "outputId": "51f4d639-281c-4759-876e-93d5a45f1362",
        "colab": {
          "base_uri": "https://localhost:8080/"
        }
      },
      "execution_count": null,
      "outputs": [
        {
          "output_type": "stream",
          "name": "stdout",
          "text": [
            "       InvoiceNo StockCode                          Description  Quantity  \\\n",
            "0         536365    85123A   WHITE HANGING HEART T-LIGHT HOLDER         6   \n",
            "1         536365     71053                  WHITE METAL LANTERN         6   \n",
            "2         536365    84406B       CREAM CUPID HEARTS COAT HANGER         8   \n",
            "3         536365    84029G  KNITTED UNION FLAG HOT WATER BOTTLE         6   \n",
            "4         536365    84029E       RED WOOLLY HOTTIE WHITE HEART.         6   \n",
            "...          ...       ...                                  ...       ...   \n",
            "541904    581587     22613          PACK OF 20 SPACEBOY NAPKINS        12   \n",
            "541905    581587     22899         CHILDREN'S APRON DOLLY GIRL          6   \n",
            "541906    581587     23254        CHILDRENS CUTLERY DOLLY GIRL          4   \n",
            "541907    581587     23255      CHILDRENS CUTLERY CIRCUS PARADE         4   \n",
            "541908    581587     22138        BAKING SET 9 PIECE RETROSPOT          3   \n",
            "\n",
            "       InvoiceDate  UnitPrice  CustomerID         Country  \n",
            "0              NaT       2.55       17850  United Kingdom  \n",
            "1              NaT       3.39       17850  United Kingdom  \n",
            "2              NaT       2.75       17850  United Kingdom  \n",
            "3              NaT       3.39       17850  United Kingdom  \n",
            "4              NaT       3.39       17850  United Kingdom  \n",
            "...            ...        ...         ...             ...  \n",
            "541904         NaT       0.85       12680          France  \n",
            "541905         NaT       2.10       12680          France  \n",
            "541906         NaT       4.15       12680          France  \n",
            "541907         NaT       4.15       12680          France  \n",
            "541908         NaT       4.95       12680          France  \n",
            "\n",
            "[392692 rows x 8 columns]\n"
          ]
        }
      ]
    },
    {
      "cell_type": "markdown",
      "source": [
        "Total Price Column"
      ],
      "metadata": {
        "id": "qzbDKhTr0yns"
      }
    },
    {
      "cell_type": "code",
      "source": [
        "df['TotalPrice'] = df['Quantity'] * df['UnitPrice']\n",
        "print(df)"
      ],
      "metadata": {
        "id": "PNTfPY3d02s1",
        "outputId": "8e4399d1-f9c1-48c8-c2d8-94f6859c8987",
        "colab": {
          "base_uri": "https://localhost:8080/"
        }
      },
      "execution_count": null,
      "outputs": [
        {
          "output_type": "stream",
          "name": "stdout",
          "text": [
            "       InvoiceNo StockCode                          Description  Quantity  \\\n",
            "0         536365    85123A   WHITE HANGING HEART T-LIGHT HOLDER         6   \n",
            "1         536365     71053                  WHITE METAL LANTERN         6   \n",
            "2         536365    84406B       CREAM CUPID HEARTS COAT HANGER         8   \n",
            "3         536365    84029G  KNITTED UNION FLAG HOT WATER BOTTLE         6   \n",
            "4         536365    84029E       RED WOOLLY HOTTIE WHITE HEART.         6   \n",
            "...          ...       ...                                  ...       ...   \n",
            "541904    581587     22613          PACK OF 20 SPACEBOY NAPKINS        12   \n",
            "541905    581587     22899         CHILDREN'S APRON DOLLY GIRL          6   \n",
            "541906    581587     23254        CHILDRENS CUTLERY DOLLY GIRL          4   \n",
            "541907    581587     23255      CHILDRENS CUTLERY CIRCUS PARADE         4   \n",
            "541908    581587     22138        BAKING SET 9 PIECE RETROSPOT          3   \n",
            "\n",
            "       InvoiceDate  UnitPrice  CustomerID         Country  TotalPrice  \n",
            "0              NaT       2.55       17850  United Kingdom       15.30  \n",
            "1              NaT       3.39       17850  United Kingdom       20.34  \n",
            "2              NaT       2.75       17850  United Kingdom       22.00  \n",
            "3              NaT       3.39       17850  United Kingdom       20.34  \n",
            "4              NaT       3.39       17850  United Kingdom       20.34  \n",
            "...            ...        ...         ...             ...         ...  \n",
            "541904         NaT       0.85       12680          France       10.20  \n",
            "541905         NaT       2.10       12680          France       12.60  \n",
            "541906         NaT       4.15       12680          France       16.60  \n",
            "541907         NaT       4.15       12680          France       16.60  \n",
            "541908         NaT       4.95       12680          France       14.85  \n",
            "\n",
            "[392692 rows x 9 columns]\n"
          ]
        }
      ]
    },
    {
      "cell_type": "markdown",
      "source": [
        "Feature Engineering (RFM Metrics)"
      ],
      "metadata": {
        "id": "XdTHbaTm2UpE"
      }
    },
    {
      "cell_type": "code",
      "source": [
        "sanpshot_date = df['InvoiceDate'].max()\n",
        "summary =summary_data_from_transaction_data(df, 'CustomerID', 'InvoiceDate', 'TotalPrice')\n",
        "print(summary.head())\n",
        "\n",
        "print(sanpshot_date)"
      ],
      "metadata": {
        "id": "edGl6bfp2W7I",
        "outputId": "eddef502-cbd4-4731-8de2-64f0dd9ca0f3",
        "colab": {
          "base_uri": "https://localhost:8080/"
        }
      },
      "execution_count": null,
      "outputs": [
        {
          "output_type": "stream",
          "name": "stdout",
          "text": [
            "            frequency  recency      T  monetary_value\n",
            "CustomerID                                           \n",
            "12346             0.0      0.0  316.0            0.00\n",
            "12347             1.0    278.0  308.0         1294.32\n",
            "12348             2.0    283.0  349.0          268.72\n",
            "12349             0.0      0.0    9.0            0.00\n",
            "12352             4.0    224.0  287.0          228.29\n",
            "2011-11-30 17:37:00\n"
          ]
        }
      ]
    },
    {
      "cell_type": "markdown",
      "source": [],
      "metadata": {
        "id": "c5WpbmbQ5wzo"
      }
    },
    {
      "cell_type": "code",
      "source": [
        "\n",
        "fig, axes = plt.subplots(1, 3, figsize=(18, 5))\n",
        "sns.histplot(summary['frequency'], ax=axes[0], bins=30, kde=True)\n",
        "axes[0].set_title('Frequency Distribution')\n",
        "sns.histplot(summary['recency'], ax=axes[1], bins=30, kde=True)\n",
        "axes[1].set_title('Recency Distribution')\n",
        "sns.histplot(summary['monetary_value'], ax=axes[2], bins=30, kde=True)\n",
        "axes[2].set_title('Monetary Value Distribution')\n",
        "plt.show()\n"
      ],
      "metadata": {
        "id": "irW2i0a_6rYS",
        "outputId": "1c9270de-a188-4514-fc3a-7bb863d11cd8",
        "colab": {
          "base_uri": "https://localhost:8080/",
          "height": 466
        }
      },
      "execution_count": null,
      "outputs": [
        {
          "output_type": "display_data",
          "data": {
            "text/plain": [
              "<Figure size 1800x500 with 3 Axes>"
            ],
            "image/png": "[encoded data removed]"
          },
          "metadata": {}
        }
      ]
    },
    {
      "cell_type": "markdown",
      "source": [
        "ML Model for Predicting Number of Purchases (Over next 90 days)\n"
      ],
      "metadata": {
        "id": "M587GID0_Weu"
      }
    },
    {
      "cell_type": "code",
      "source": [
        "bgf = BetaGeoFitter(penalizer_coef=0.0)\n",
        "bgf.fit(summary['frequency'],summary['recency'],summary['T'])\n",
        "t = 90\n",
        "summary['predicted_purchases'] = bgf.conditional_expected_number_of_purchases_up_to_time(t, summary['frequency'], summary['recency'], summary['T']).round(0).astype(int)\n",
        "print(summary[['predicted_purchases']])"
      ],
      "metadata": {
        "id": "6z2cRRRt_Zcy",
        "outputId": "f1985f79-ea15-40c2-ac3f-bd4d006a5f49",
        "colab": {
          "base_uri": "https://localhost:8080/"
        }
      },
      "execution_count": 29,
      "outputs": [
        {
          "output_type": "stream",
          "name": "stdout",
          "text": [
            "            predicted_purchases\n",
            "CustomerID                     \n",
            "12346                         0\n",
            "12347                         0\n",
            "12348                         1\n",
            "12349                         1\n",
            "12352                         1\n",
            "...                         ...\n",
            "18273                         0\n",
            "18276                         1\n",
            "18278                         0\n",
            "18283                         2\n",
            "18287                         1\n",
            "\n",
            "[3480 rows x 1 columns]\n"
          ]
        }
      ]
    },
    {
      "cell_type": "code",
      "source": [],
      "metadata": {
        "id": "ZQaYivszC3Gt"
      },
      "execution_count": null,
      "outputs": []
    }
  ]
}